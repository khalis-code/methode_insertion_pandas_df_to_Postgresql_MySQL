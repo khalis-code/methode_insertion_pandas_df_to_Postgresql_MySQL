{
 "cells": [
  {
   "cell_type": "code",
   "execution_count": 1,
   "id": "7580989d",
   "metadata": {},
   "outputs": [],
   "source": [
    "# Importer les biblioteques \n",
    "import pandas as pd\n",
    "from sqlalchemy import create_engine\n",
    "from config import nom_db\n",
    "from config import mot_pass"
   ]
  },
  {
   "cell_type": "code",
   "execution_count": 2,
   "id": "a3cd84a5",
   "metadata": {},
   "outputs": [],
   "source": [
    "# Lecture de fichier excel \n",
    "data_client = pd.read_excel('client.xlsx')\n",
    "data_produit = pd.read_excel('produit.xlsx')\n",
    "data_cde = pd.read_excel('commande.xlsx')"
   ]
  },
  {
   "cell_type": "code",
   "execution_count": 5,
   "id": "76a2f871",
   "metadata": {},
   "outputs": [
    {
     "name": "stdout",
     "output_type": "stream",
     "text": [
      "Connexion établie avec succès...\n",
      "Données insérées depuis le DataFrame dans la table 'Clients'...\n"
     ]
    }
   ],
   "source": [
    "param_dic = {\n",
    "    \"host\": \"localhost\",\n",
    "    \"database\": nom_db,\n",
    "    \"user\": \"root\",\n",
    "    \"password\": mot_pass\n",
    "}\n",
    "\n",
    "try:\n",
    "    connect = \"mysql+pymysql://%s:%s@%s:3306/%s\" % (\n",
    "        param_dic['user'],\n",
    "        param_dic['password'],\n",
    "        param_dic['host'],\n",
    "        param_dic['database']\n",
    "    )\n",
    "\n",
    "    engine = create_engine(connect)\n",
    "    print(\"Connexion établie avec succès...\")\n",
    "    \n",
    "    # Écrire les données dans la table de base de données\n",
    "    data_client.to_sql(\n",
    "        'clients',         # nom de la table \n",
    "        con=engine,        # Engine \n",
    "        if_exists='append', # Les données doivent être ajoutées à la table existante\n",
    "        index=False  # l'index du DataFrame ne doit pas être inclus dans la base de données\n",
    "    )\n",
    "\n",
    "    print(\"Données insérées depuis le DataFrame dans la table 'Clients'...\")\n",
    "\n",
    "except Exception as e:\n",
    "    print(\"Erreur lors de la connexion/écriture/lecture PostgreSQL:\")\n",
    "    print(e)"
   ]
  },
  {
   "cell_type": "code",
   "execution_count": null,
   "id": "3fa66f2a",
   "metadata": {},
   "outputs": [],
   "source": []
  }
 ],
 "metadata": {
  "kernelspec": {
   "display_name": "Python 3 (ipykernel)",
   "language": "python",
   "name": "python3"
  },
  "language_info": {
   "codemirror_mode": {
    "name": "ipython",
    "version": 3
   },
   "file_extension": ".py",
   "mimetype": "text/x-python",
   "name": "python",
   "nbconvert_exporter": "python",
   "pygments_lexer": "ipython3",
   "version": "3.10.10"
  }
 },
 "nbformat": 4,
 "nbformat_minor": 5
}
